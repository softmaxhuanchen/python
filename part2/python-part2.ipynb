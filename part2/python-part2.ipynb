{
 "cells": [
  {
   "cell_type": "markdown",
   "id": "bb992642-6698-45dd-8b27-e6ec459127ae",
   "metadata": {},
   "source": [
    "# Data structure and Functions"
   ]
  },
  {
   "cell_type": "markdown",
   "id": "6e98980f-bcef-4f66-b014-49f662ba2695",
   "metadata": {},
   "source": [
    "### List slicing\n",
    "- Basic slicing syntax: list[start:stop:step] \n",
    "- start is included, stop is excluded"
   ]
  },
  {
   "cell_type": "code",
   "execution_count": null,
   "id": "88b190bd-d924-48ab-a53c-c76d3e358176",
   "metadata": {},
   "outputs": [],
   "source": [
    "# Financial advisors and Jedi warriors\n",
    "jedi_fa = ['Justice', 'Muteba', 'Venkata', 'Chatherine', 'Sahib', \n",
    "           'Mohit', 'Kwadwo', 'Sobi', 'Nikhil', 'Joanne', 'Prerna', 'Katie', 'Masih', 'Hyun bin','Huan']"
   ]
  },
  {
   "cell_type": "markdown",
   "id": "2a89b419-a0de-4b63-aa9a-28945bed03a7",
   "metadata": {},
   "source": [
    "### Functions\n",
    "- pay attention to indentation\n",
    "- pay attention to scope of variable\n",
    "- pay attention to signature of the function"
   ]
  },
  {
   "cell_type": "markdown",
   "id": "81ce2b93-86c7-4b97-a171-42da8229e66d",
   "metadata": {},
   "source": [
    "### mini project 1 - smart light saber\n",
    "the idea:\n",
    "Imagine a Jedi team on a mission to steal a spaceship. they use smart light sabers, which will cut enemies but not Jedis. "
   ]
  },
  {
   "cell_type": "markdown",
   "id": "61b98378-641f-4cdd-859b-6e0e70cea699",
   "metadata": {},
   "source": [
    "### Dictionary"
   ]
  },
  {
   "cell_type": "markdown",
   "id": "e4c66b04-5682-4c37-9fc8-b2bf6355afb6",
   "metadata": {},
   "source": [
    "### Nested lists and nested dicts"
   ]
  },
  {
   "cell_type": "markdown",
   "id": "d16bfceb-564c-48cb-8f49-7c1309053d09",
   "metadata": {},
   "source": [
    "### combine lists and dicts"
   ]
  }
 ],
 "metadata": {
  "kernelspec": {
   "display_name": "Python 3 (ipykernel)",
   "language": "python",
   "name": "python3"
  },
  "language_info": {
   "codemirror_mode": {
    "name": "ipython",
    "version": 3
   },
   "file_extension": ".py",
   "mimetype": "text/x-python",
   "name": "python",
   "nbconvert_exporter": "python",
   "pygments_lexer": "ipython3",
   "version": "3.9.18"
  }
 },
 "nbformat": 4,
 "nbformat_minor": 5
}
