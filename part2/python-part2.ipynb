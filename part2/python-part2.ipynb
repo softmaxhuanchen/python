{
 "cells": [
  {
   "cell_type": "markdown",
   "id": "bb992642-6698-45dd-8b27-e6ec459127ae",
   "metadata": {},
   "source": [
    "# Data structure and Functions"
   ]
  },
  {
   "cell_type": "markdown",
   "id": "6e98980f-bcef-4f66-b014-49f662ba2695",
   "metadata": {},
   "source": [
    "### List slicing\n",
    "- Basic slicing syntax: list[start:stop:step] \n",
    "- start is included, stop is excluded"
   ]
  },
  {
   "cell_type": "code",
   "execution_count": 55,
   "id": "88b190bd-d924-48ab-a53c-c76d3e358176",
   "metadata": {},
   "outputs": [
    {
     "name": "stdout",
     "output_type": "stream",
     "text": [
      "15\n",
      "Huan\n"
     ]
    }
   ],
   "source": [
    "# Financial advisors and Jedi warriors\n",
    "jedi_fa = ['Justice', 'Muteba', 'Venkata', 'Chatherine', 'Sahib', \n",
    "           'Mohit', 'Kwadwo', 'Sobi', 'Nikhil', 'Joanne', 'Prerna', 'Katie', 'Masih', 'Hyun bin','Huan']\n",
    "\n",
    "length = len(jedi_fa) # assign a value to a variable \n",
    "print(length)\n",
    "print(jedi_fa[-1])"
   ]
  },
  {
   "cell_type": "code",
   "execution_count": 54,
   "id": "1cb0ea10-4860-4477-b1fc-3e15ef9c96dd",
   "metadata": {},
   "outputs": [
    {
     "name": "stdout",
     "output_type": "stream",
     "text": [
      "['Justice', 'Muteba', 'Venkata', 'Chatherine', 'Sahib', 'Mohit', 'Kwadwo', 'Sobi', 'Nikhil', 'Joanne', 'Prerna', 'Katie', 'Masih', 'Hyun bin', 'Huan']\n"
     ]
    }
   ],
   "source": [
    "print(jedi_fa[0::])"
   ]
  },
  {
   "cell_type": "markdown",
   "id": "2a89b419-a0de-4b63-aa9a-28945bed03a7",
   "metadata": {},
   "source": [
    "### Functions\n",
    "- pay attention to indentation\n",
    "- pay attention to scope of variable\n",
    "- pay attention to signature of the function"
   ]
  },
  {
   "cell_type": "code",
   "execution_count": 70,
   "id": "dc751f37-60f7-454d-855f-7bdf9d7d0aad",
   "metadata": {},
   "outputs": [],
   "source": [
    "def financial_advisor(age, income):\n",
    "    if age >= 50 and income >= 50000:\n",
    "        print(\"you should invest in stocks\")\n",
    "    elif age >=50 and income <50000:\n",
    "        print(\"you should invest in GIC\")\n",
    "    elif age < 50 and income < 50000:\n",
    "        print(\"you should invest in bonds\")\n",
    "    else:\n",
    "        print(\"you should invest in bitcoin\")"
   ]
  },
  {
   "cell_type": "code",
   "execution_count": 71,
   "id": "42fe673b-4c86-48b4-9213-97974265fea4",
   "metadata": {},
   "outputs": [],
   "source": [
    "def get_age_income(name):\n",
    "    if name == \"Gandalf\":\n",
    "        return 851, 40000\n",
    "    elif name == \"Darth Vader\":\n",
    "        return 300, 5000000\n",
    "    elif name == \"Baby Yoda\":\n",
    "        return 1, 1\n",
    "    elif name == \"Snow White\":\n",
    "        return 15, 7000000\n",
    "    else:\n",
    "        return -1,-1"
   ]
  },
  {
   "cell_type": "code",
   "execution_count": 72,
   "id": "8cb3bb38-311e-44cd-b07c-b22b0b07e948",
   "metadata": {},
   "outputs": [
    {
     "name": "stdout",
     "output_type": "stream",
     "text": [
      "you should invest in bitcoin\n"
     ]
    }
   ],
   "source": [
    "age, income = get_age_income('Snow White')\n",
    "financial_advisor(age, income)"
   ]
  },
  {
   "cell_type": "markdown",
   "id": "81ce2b93-86c7-4b97-a171-42da8229e66d",
   "metadata": {},
   "source": [
    "### mini project 1 - smart light saber\n",
    "the idea:\n",
    "Imagine a Jedi team on a mission to steal a spaceship. they use smart light sabers, which will cut enemies but not Jedis. "
   ]
  },
  {
   "cell_type": "code",
   "execution_count": 84,
   "id": "fdf4a5f1-8431-432b-bd15-a55e71feed93",
   "metadata": {},
   "outputs": [],
   "source": [
    "guards = [\"orcs\", \"pokemons\", \"stormtroops\",\"Gandalf\", \"Darth Vader\", \"Blade Runner\", \"Harry Potter\"] # they should be cut\n",
    "\n",
    "jedi_fa = ['Justice', 'Muteba', 'Venkata', 'Chatherine', 'Sahib', \n",
    "           'Mohit', 'Kwadwo', 'Sobi', 'Nikhil', 'Joanne', 'Prerna', 'Katie', 'Masih', 'Hyun bin','Huan'] # they shouldn't be cut\n",
    "\n",
    "physical_objects = [\"door\", \"iron door\", \"rock\", \"pillars\", \"metal wall\", \"cables\",\"weapon\"]\n",
    "\n",
    "clients = ['Gandalf','Han solo','Baby Yoda', 'Blade Runner', 'Harry Potter']\n",
    "\n",
    "numbers = [12, 34, 56, 78]\n",
    "\n",
    "stocks = [\"Apple\", \"Microsoft\", \"Amazon\", \"Tesla\"]\n"
   ]
  },
  {
   "cell_type": "code",
   "execution_count": 85,
   "id": "8203693c-2399-45c9-a85d-9647bfdcc3c5",
   "metadata": {},
   "outputs": [],
   "source": [
    "# functions define the behaviors of cutting different people\n",
    "def smart_light_saber(target):\n",
    "    if target in guards and target not in clients:\n",
    "        cut_guards(target)\n",
    "    elif target in jedi_fa:\n",
    "        cut_jedi(target)\n",
    "    elif target in physical_objects:\n",
    "        cut_objects(target)\n",
    "    elif target in clients:\n",
    "        cut_clients(target) \n",
    "    elif target in numbers:\n",
    "        cut_numbers(target) \n",
    "    elif target in stocks:\n",
    "        cut_stocks(target)\n",
    "    else:\n",
    "        print(\"unknown objects don't know how to cut\")"
   ]
  },
  {
   "cell_type": "code",
   "execution_count": 93,
   "id": "714dc268-3c5a-4cde-8dcd-faa28aafeeff",
   "metadata": {},
   "outputs": [],
   "source": [
    "def cut_jedi(target):\n",
    "    print(f\" cut {target}, gental light, no cut\")\n",
    "def cut_guards(target):\n",
    "    print(f\" cut {target}, real cut, in half\")\n",
    "def cut_objects(target): \n",
    "    print(f\" cut {target}, @@@@@\")\n",
    "def cut_clients(target):\n",
    "    print(f\" cut {target}, please invest in 50% bonds 50% stocks\")\n",
    "def cut_numbers(target):\n",
    "    cut_target = target / 2\n",
    "    print(f\" cut {target}, into {cut_target}\")\n",
    "def cut_stocks(target):\n",
    "    print(f\" cut {target}, bad earning report, stock {target} is cut in half \")\n",
    "    "
   ]
  },
  {
   "cell_type": "code",
   "execution_count": 94,
   "id": "3f3c1e90-06b5-423e-9a5c-98ef02789170",
   "metadata": {},
   "outputs": [
    {
     "name": "stdout",
     "output_type": "stream",
     "text": [
      " cut Blade Runner, please invest in 50% bonds 50% stocks\n",
      " cut Katie, gental light, no cut\n",
      " cut Sobi, gental light, no cut\n",
      " cut Harry Potter, please invest in 50% bonds 50% stocks\n",
      " cut Joanne, gental light, no cut\n",
      " cut pokemons, real cut, in half\n",
      " cut Venkata, gental light, no cut\n",
      " cut Nikhil, gental light, no cut\n",
      " cut Darth Vader, real cut, in half\n",
      " cut Sahib, gental light, no cut\n",
      " cut Prerna, gental light, no cut\n",
      " cut Huan, gental light, no cut\n",
      " cut Masih, gental light, no cut\n",
      " cut orcs, real cut, in half\n",
      " cut Hyun bin, gental light, no cut\n",
      " cut Muteba, gental light, no cut\n",
      " cut Kwadwo, gental light, no cut\n",
      " cut Gandalf, please invest in 50% bonds 50% stocks\n",
      " cut stormtroops, real cut, in half\n",
      " cut Chatherine, gental light, no cut\n",
      " cut Mohit, gental light, no cut\n",
      " cut Justice, gental light, no cut\n"
     ]
    }
   ],
   "source": [
    "# stage a fight scene\n",
    "import random\n",
    "fight_scene1 = guards + jedi_fa\n",
    "random.shuffle(fight_scene1)\n",
    "# print(fight_scene1)\n",
    "\n",
    "for target in fight_scene1:\n",
    "    smart_light_saber(target)\n",
    "    "
   ]
  },
  {
   "cell_type": "code",
   "execution_count": 95,
   "id": "20e15efd-2681-4709-92af-276f93b4b62d",
   "metadata": {},
   "outputs": [
    {
     "name": "stdout",
     "output_type": "stream",
     "text": [
      " cut metal wall, @@@@@\n",
      " cut Hyun bin, gental light, no cut\n",
      " cut Muteba, gental light, no cut\n",
      " cut iron door, @@@@@\n",
      " cut Joanne, gental light, no cut\n",
      " cut door, @@@@@\n",
      " cut Huan, gental light, no cut\n",
      " cut Sobi, gental light, no cut\n",
      " cut Kwadwo, gental light, no cut\n",
      " cut Katie, gental light, no cut\n",
      " cut 12, into 6.0\n",
      " cut pillars, @@@@@\n",
      " cut Prerna, gental light, no cut\n",
      " cut Mohit, gental light, no cut\n",
      " cut Gandalf, please invest in 50% bonds 50% stocks\n",
      " cut Venkata, gental light, no cut\n",
      " cut 78, into 39.0\n",
      " cut Masih, gental light, no cut\n",
      " cut Harry Potter, please invest in 50% bonds 50% stocks\n",
      " cut stormtroops, real cut, in half\n",
      " cut Nikhil, gental light, no cut\n",
      " cut Sahib, gental light, no cut\n",
      " cut Gandalf, please invest in 50% bonds 50% stocks\n",
      " cut Han solo, please invest in 50% bonds 50% stocks\n",
      " cut Justice, gental light, no cut\n",
      " cut 34, into 17.0\n",
      " cut orcs, real cut, in half\n",
      " cut Microsoft, bad earning report, stock Microsoft is cut in half \n",
      " cut Blade Runner, please invest in 50% bonds 50% stocks\n",
      " cut Blade Runner, please invest in 50% bonds 50% stocks\n",
      " cut 56, into 28.0\n",
      " cut Apple, bad earning report, stock Apple is cut in half \n",
      " cut weapon, @@@@@\n",
      " cut Harry Potter, please invest in 50% bonds 50% stocks\n",
      " cut Darth Vader, real cut, in half\n",
      " cut cables, @@@@@\n",
      " cut rock, @@@@@\n",
      " cut Baby Yoda, please invest in 50% bonds 50% stocks\n",
      " cut Chatherine, gental light, no cut\n",
      " cut Amazon, bad earning report, stock Amazon is cut in half \n",
      " cut pokemons, real cut, in half\n",
      " cut Tesla, bad earning report, stock Tesla is cut in half \n"
     ]
    }
   ],
   "source": [
    "# stage fight scene 2\n",
    "import random\n",
    "fight_scene2 = guards + jedi_fa + physical_objects + clients + numbers + stocks\n",
    "random.shuffle(fight_scene2)\n",
    "# print(fight_scene2)\n",
    "\n",
    "for target in fight_scene2:\n",
    "    smart_light_saber(target)"
   ]
  },
  {
   "cell_type": "markdown",
   "id": "61b98378-641f-4cdd-859b-6e0e70cea699",
   "metadata": {},
   "source": [
    "### Dictionary"
   ]
  },
  {
   "cell_type": "markdown",
   "id": "e4c66b04-5682-4c37-9fc8-b2bf6355afb6",
   "metadata": {},
   "source": [
    "### Nested lists and nested dicts"
   ]
  },
  {
   "cell_type": "markdown",
   "id": "d16bfceb-564c-48cb-8f49-7c1309053d09",
   "metadata": {},
   "source": [
    "### combine lists and dicts"
   ]
  }
 ],
 "metadata": {
  "kernelspec": {
   "display_name": "Python 3 (ipykernel)",
   "language": "python",
   "name": "python3"
  },
  "language_info": {
   "codemirror_mode": {
    "name": "ipython",
    "version": 3
   },
   "file_extension": ".py",
   "mimetype": "text/x-python",
   "name": "python",
   "nbconvert_exporter": "python",
   "pygments_lexer": "ipython3",
   "version": "3.9.18"
  }
 },
 "nbformat": 4,
 "nbformat_minor": 5
}
