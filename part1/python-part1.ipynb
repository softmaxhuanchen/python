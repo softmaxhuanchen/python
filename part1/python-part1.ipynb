{
 "cells": [
  {
   "cell_type": "markdown",
   "id": "0a21cbb2-cb32-4e8d-a35f-55d12298af81",
   "metadata": {
    "tags": []
   },
   "source": [
    "### The framework\n",
    "- muscle memory, create, ask\n",
    "- Variables, Logic, Functions\n",
    "- File location, have a good workflow"
   ]
  },
  {
   "cell_type": "markdown",
   "id": "e7ca0c74-0fa8-4964-b1ff-63e52e3dfdeb",
   "metadata": {},
   "source": [
    "### Variables \n",
    "- pay attention to the value of a variable vs the name of a varaible (place holder)\n",
    "- pay attention to the type of a variable\n",
    "- pay attention to the scope of a variable\n",
    "- comment using \"#\" hotkey: cmd + /"
   ]
  },
  {
   "cell_type": "code",
   "execution_count": 1,
   "id": "07933bec-1fa4-48b6-a7d0-88099a78fff9",
   "metadata": {},
   "outputs": [],
   "source": [
    "# comment 1st line\n",
    "# commend 2nd line"
   ]
  },
  {
   "cell_type": "code",
   "execution_count": 17,
   "id": "b761b344-0fcf-4332-a8ad-d6b5db889789",
   "metadata": {},
   "outputs": [
    {
     "name": "stdout",
     "output_type": "stream",
     "text": [
      "3600\n"
     ]
    }
   ],
   "source": [
    "person_name = 'Gandalf' #string type\n",
    "# age = '850' #string type\n",
    "age = 850 # int type\n",
    "age = age + 1\n",
    "wizard_status = True # Boolean type\n",
    "\n",
    "flying_speedperhour = 150 \n",
    "flying_perday = 150 * 24\n",
    "\n",
    "print(flying_perday)"
   ]
  },
  {
   "cell_type": "markdown",
   "id": "76869409-e361-4807-94b0-9e104d9cf55a",
   "metadata": {},
   "source": [
    "### Logic\n",
    "1. conditional\n",
    "- pay attention to indentation\n",
    "- pay attention to levels\n",
    "- pay attention to MECE (mutually exclusive collectively exhaustive)\n",
    "2. loops"
   ]
  },
  {
   "cell_type": "code",
   "execution_count": 18,
   "id": "a6f33abf-d972-4789-81cc-e04e0f43c391",
   "metadata": {},
   "outputs": [],
   "source": [
    "# create variables\n",
    "client_id = [0,1,2,3,4] # list type\n",
    "client_names = ['Gandalf','Hand solo','Baby Yoda','Blade runner','Harry Potter'] # a list of strings\n",
    "client_age = [851, 35, 1, -12, 15] # a list of int\n",
    "client_wizard_status = [True, False, False, False, True] # list of booleans"
   ]
  },
  {
   "cell_type": "code",
   "execution_count": 22,
   "id": "fdce3c4c-c371-4f0a-a72c-abbb6f41ac7e",
   "metadata": {},
   "outputs": [
    {
     "name": "stdout",
     "output_type": "stream",
     "text": [
      "-12\n"
     ]
    }
   ],
   "source": [
    "# print(client_names[4])\n",
    "print(client_age[3])"
   ]
  },
  {
   "cell_type": "code",
   "execution_count": 33,
   "id": "f7d3fe8f-ee43-4ebc-a0d2-16146dee37ee",
   "metadata": {},
   "outputs": [
    {
     "name": "stdout",
     "output_type": "stream",
     "text": [
      "Harry Potter, you should invest 90% stocks, 5% bitcoin, which be the currency for milky way galaxy\n"
     ]
    }
   ],
   "source": [
    "name = client_names[4]\n",
    "age = client_age[4]\n",
    "\n",
    "if age <= 0: \n",
    "    print(f\"{name}, you are not born yet, but we will put you on waiting list\") # f-string\n",
    "elif age > 0 and age < 30:\n",
    "    print(f\"{name}, you should invest 90% stocks, 5% bitcoin, which be the currency for milky way galaxy\")    \n",
    "else:\n",
    "    print(f\"{name}, we will help you\")"
   ]
  },
  {
   "cell_type": "markdown",
   "id": "01fee608-05c4-48f3-982d-0f8d1b662be9",
   "metadata": {},
   "source": [
    "### loops"
   ]
  },
  {
   "cell_type": "markdown",
   "id": "ecc960a2-55ae-4e0e-a96b-d2d4a53e8baa",
   "metadata": {},
   "source": [
    "### Functions\n",
    "- pay attention to indentation\n",
    "- pay attention to scope of variable\n",
    "- pay attention to signature of the function"
   ]
  },
  {
   "cell_type": "code",
   "execution_count": null,
   "id": "9cd596aa-ebee-4bd4-95dd-831526f56e41",
   "metadata": {},
   "outputs": [],
   "source": []
  }
 ],
 "metadata": {
  "kernelspec": {
   "display_name": "Python 3 (ipykernel)",
   "language": "python",
   "name": "python3"
  },
  "language_info": {
   "codemirror_mode": {
    "name": "ipython",
    "version": 3
   },
   "file_extension": ".py",
   "mimetype": "text/x-python",
   "name": "python",
   "nbconvert_exporter": "python",
   "pygments_lexer": "ipython3",
   "version": "3.9.18"
  }
 },
 "nbformat": 4,
 "nbformat_minor": 5
}
