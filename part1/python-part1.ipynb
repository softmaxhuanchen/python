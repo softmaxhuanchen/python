{
 "cells": [
  {
   "cell_type": "markdown",
   "id": "0a21cbb2-cb32-4e8d-a35f-55d12298af81",
   "metadata": {
    "jp-MarkdownHeadingCollapsed": true,
    "tags": []
   },
   "source": [
    "### The framework\n",
    "- muscle memory, create, ask\n",
    "- Variables, Logic, Functions"
   ]
  },
  {
   "cell_type": "markdown",
   "id": "e7ca0c74-0fa8-4964-b1ff-63e52e3dfdeb",
   "metadata": {},
   "source": [
    "### Variables \n",
    "- pay attention to the value of a variable vs the name of a varaible (place holder)\n",
    "- pay attention to the type of a variable\n",
    "- pay attention to the scope of a variable\n",
    "- comment using \"#\" hotkey: cmd + /"
   ]
  },
  {
   "cell_type": "code",
   "execution_count": null,
   "id": "07933bec-1fa4-48b6-a7d0-88099a78fff9",
   "metadata": {},
   "outputs": [],
   "source": [
    "# comment 1st line\n",
    "# commend 2nd line"
   ]
  },
  {
   "cell_type": "markdown",
   "id": "76869409-e361-4807-94b0-9e104d9cf55a",
   "metadata": {},
   "source": [
    "### Logic\n",
    "1. conditional\n",
    "- pay attention to indentation\n",
    "- pay attention to levels\n",
    "- pay attention to MECE (mutually exclusive collectively exhaustive)\n",
    "2. loops"
   ]
  },
  {
   "cell_type": "markdown",
   "id": "01fee608-05c4-48f3-982d-0f8d1b662be9",
   "metadata": {},
   "source": [
    "### loops"
   ]
  },
  {
   "cell_type": "markdown",
   "id": "ecc960a2-55ae-4e0e-a96b-d2d4a53e8baa",
   "metadata": {},
   "source": [
    "### Functions\n",
    "- pay attention to indentation\n",
    "- pay attention to scope of variable\n",
    "- pay attention to signature of the function"
   ]
  },
  {
   "cell_type": "code",
   "execution_count": null,
   "id": "9cd596aa-ebee-4bd4-95dd-831526f56e41",
   "metadata": {},
   "outputs": [],
   "source": []
  }
 ],
 "metadata": {
  "kernelspec": {
   "display_name": "Python 3 (ipykernel)",
   "language": "python",
   "name": "python3"
  },
  "language_info": {
   "codemirror_mode": {
    "name": "ipython",
    "version": 3
   },
   "file_extension": ".py",
   "mimetype": "text/x-python",
   "name": "python",
   "nbconvert_exporter": "python",
   "pygments_lexer": "ipython3",
   "version": "3.9.16"
  }
 },
 "nbformat": 4,
 "nbformat_minor": 5
}
