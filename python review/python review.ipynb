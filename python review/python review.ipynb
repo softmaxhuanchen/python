{
 "cells": [
  {
   "cell_type": "markdown",
   "id": "4eca8398-2fe7-47a3-93d8-69fc3374be06",
   "metadata": {
    "tags": []
   },
   "source": [
    "### Python\n",
    "- variables. 1. name vs value. 2. types: int, float, string, list, dict, tuple, boolean, None 3. scopes\n",
    "- logic. conditionals, loops\n",
    "- functions: inputs, code in between, outputs. \n",
    "- home\n"
   ]
  },
  {
   "cell_type": "code",
   "execution_count": 2,
   "id": "0a0fe536-7b9f-43d2-824d-0976468cbc12",
   "metadata": {},
   "outputs": [
    {
     "name": "stdout",
     "output_type": "stream",
     "text": [
      "the number is 5\n"
     ]
    }
   ],
   "source": [
    "x = 5\n",
    "\n",
    "def print_number(num):\n",
    "    print(f\"the number is {num}\")\n",
    "\n",
    "print_number(x)"
   ]
  },
  {
   "cell_type": "code",
   "execution_count": 17,
   "id": "23497bda-cf30-4bbe-b575-856ce7797bbe",
   "metadata": {},
   "outputs": [
    {
     "name": "stdout",
     "output_type": "stream",
     "text": [
      "[20, 18, 16, 14, 12, 10, 8, 6, 4, 2]\n"
     ]
    }
   ],
   "source": [
    "temp_list = [1,2,3,4,5,6,7,8,9,10]\n",
    "\n",
    "# reverse temp_list\n",
    "# list comprehension\n",
    "\n",
    "reversed_temp_list = [i*2 for i in temp_list[::-1]]\n",
    "\n",
    "print(reversed_temp_list)\n",
    "\n"
   ]
  },
  {
   "cell_type": "markdown",
   "id": "096f1bfb-9137-4b86-8303-b6c30c7f5e10",
   "metadata": {},
   "source": [
    "### Code drill "
   ]
  },
  {
   "cell_type": "markdown",
   "id": "e4521cc7-37d5-4e62-8cf5-def889d67fd1",
   "metadata": {},
   "source": [
    "### list comprehension"
   ]
  },
  {
   "cell_type": "markdown",
   "id": "41e071e2-f7b2-4350-9eef-907b5e100776",
   "metadata": {},
   "source": [
    "### challenge 1  - code name"
   ]
  },
  {
   "cell_type": "code",
   "execution_count": 53,
   "id": "403d1a7a-1a6b-406e-b788-ae4f3459196b",
   "metadata": {
    "tags": []
   },
   "outputs": [
    {
     "name": "stdout",
     "output_type": "stream",
     "text": [
      "Katie you are the chosen one!\n"
     ]
    }
   ],
   "source": [
    "import random\n",
    "# function to use random.choice(my_list)\n",
    "\n",
    "space_pirates = ['Justice', 'Muteba', 'Venkata', 'Chatherine', 'Sahib', 'Mohit', 'Kwadwo', 'Sobi', 'Nikhil', 'Joanne', 'Prerna', 'Katie', 'Masih', 'Hyun bin','Huan']\n",
    "\n",
    "code_names = ['Dark Lord', 'Ice Queen', 'Star Lord', 'Viper', 'Phoenix', 'Shadow', 'Thor', \n",
    "              'Obiwan', 'Sky walker', 'Quantum', 'Voyager', 'Juno', \n",
    "              'Super Nova', 'Siren', 'Spicy']\n",
    "\n",
    "\n",
    "def produce_codename_dict(real_names, secret_names):\n",
    "    \n",
    "    pirate_name_dict = {}\n",
    "    secretnames_left = secret_names\n",
    "    \n",
    "    for name in real_names:\n",
    "        code = random.choice(secretnames_left)\n",
    "        pirate_name_dict[name] = code\n",
    "        secretnames_left.remove(code)\n",
    "        \n",
    "    return pirate_name_dict\n",
    "\n",
    "\n",
    "output_dict = produce_codename_dict(space_pirates,code_names)\n",
    "\n",
    "\n",
    "def print_codenames(codename_dict):\n",
    "    for key, value in codename_dict.items():\n",
    "        print(f\"{key} daytime financial advisor, night time space pirate, known in galaxy as {value}\")\n",
    "        \n",
    "\n",
    "\n",
    "# print_codenames(output_dict)\n",
    "\n",
    "the_chosen_one = random.choice(space_pirates)\n",
    "\n",
    "print(f'{the_chosen_one} you are the chosen one!')\n",
    "\n"
   ]
  },
  {
   "cell_type": "markdown",
   "id": "97b0c68b-0735-4d73-a645-4efbc27a3624",
   "metadata": {
    "tags": []
   },
   "source": [
    "### challenge 2 rock paper scissors"
   ]
  },
  {
   "cell_type": "code",
   "execution_count": null,
   "id": "dbf17cf6-0712-45c5-b084-373622177174",
   "metadata": {},
   "outputs": [],
   "source": [
    "import random\n",
    "input_map = {'r':'rock', 'p':'paper', 's':'scissors'}\n",
    "\n",
    "def get_game_inputs():\n",
    "    game_inputs = {}\n",
    "    user_input = input(\"prease enter 'r' for 'rock', 'p' for 'paper', 's' for 'scissors'\")\n",
    "    game_inputs['your choice'] = input_map[user_input]\n",
    "    computer_choice = random.choice(list(input_map.values()))\n",
    "    game_inputs['computer choice'] = computer_choice\n",
    "    return game_inputs\n",
    "\n",
    "def who_win(game_inputs):\n",
    "    your_choice = game_inputs['your choice']\n",
    "    computer_choice = game_inputs['computer choice']\n",
    "    # print('you win')\n",
    "    if your_choice == computer_choice:\n",
    "        print(f\"your choice is {your_choice} and computer's choice is {computer_choice} it's a draw\")\n",
    "    if your_choice == \"rock\" and computer_choice = \"paper\":\n",
    "        print(f\"your choice is {your_choice} and computer's choice is {computer_choice} computer wins\") \n",
    "    if your_choice == \"rock\" and computer_choice = \"scissors\":\n",
    "        print(f\"your choice is {your_choice} and computer's choice is {computer_choice} you win\")        \n",
    "    if your_choice == \"paper\" and computer_choice = \"rock\":\n",
    "        print(f\"your choice is {your_choice} and computer's choice is {computer_choice} you win\") \n",
    "    if your_choice == \"paper\" and computer_choice = \"scissors\":\n",
    "        print(f\"your choice is {your_choice} and computer's choice is {computer_choice} computer wins\")  \n",
    "    if your_choice == \"scissors\" and computer_choice = \"rock\":\n",
    "        print(f\"your choice is {your_choice} and computer's choice is {computer_choice} computer wins\") \n",
    "    if your_choice == \"scissors\" and computer_choice = \"paper\":\n",
    "        print(f\"your choice is {your_choice} and computer's choice is {computer_choice} you win\")  \n",
    "        \n",
    "def play_rpc():\n",
    "    for i in range(10):\n",
    "        who_win(get_game_inputs())\n",
    "        continue_or_not = input(\"prease enter 'c' for 'continue', 'f' for 'finish'\")\n",
    "        if continue_or_not == 'f':\n",
    "            break\n",
    "\n",
    "\n",
    "play_rpc()   "
   ]
  },
  {
   "cell_type": "code",
   "execution_count": null,
   "id": "5bfc1211-2dd5-4c90-9f7c-f3f1ccf19861",
   "metadata": {},
   "outputs": [],
   "source": []
  }
 ],
 "metadata": {
  "kernelspec": {
   "display_name": "Python 3 (ipykernel)",
   "language": "python",
   "name": "python3"
  },
  "language_info": {
   "codemirror_mode": {
    "name": "ipython",
    "version": 3
   },
   "file_extension": ".py",
   "mimetype": "text/x-python",
   "name": "python",
   "nbconvert_exporter": "python",
   "pygments_lexer": "ipython3",
   "version": "3.9.18"
  }
 },
 "nbformat": 4,
 "nbformat_minor": 5
}
