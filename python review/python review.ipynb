{
 "cells": [
  {
   "cell_type": "markdown",
   "id": "4eca8398-2fe7-47a3-93d8-69fc3374be06",
   "metadata": {
    "tags": []
   },
   "source": [
    "### Python\n",
    "- variables. 1. name vs value. 2. types: int, float, string, list, dict, tuple, boolean, None 3. scopes\n",
    "- logic. conditionals, loops\n",
    "- functions: inputs, code in between, outputs. \n",
    "- home\n"
   ]
  },
  {
   "cell_type": "code",
   "execution_count": 2,
   "id": "0a0fe536-7b9f-43d2-824d-0976468cbc12",
   "metadata": {},
   "outputs": [
    {
     "name": "stdout",
     "output_type": "stream",
     "text": [
      "the number is 5\n"
     ]
    }
   ],
   "source": [
    "x = 5\n",
    "\n",
    "def print_number(num):\n",
    "    print(f\"the number is {num}\")\n",
    "\n",
    "print_number(x)"
   ]
  },
  {
   "cell_type": "code",
   "execution_count": 17,
   "id": "23497bda-cf30-4bbe-b575-856ce7797bbe",
   "metadata": {},
   "outputs": [
    {
     "name": "stdout",
     "output_type": "stream",
     "text": [
      "[20, 18, 16, 14, 12, 10, 8, 6, 4, 2]\n"
     ]
    }
   ],
   "source": [
    "temp_list = [1,2,3,4,5,6,7,8,9,10]\n",
    "\n",
    "# reverse temp_list\n",
    "# list comprehension\n",
    "\n",
    "reversed_temp_list = [i*2 for i in temp_list[::-1]]\n",
    "\n",
    "\n",
    "print(reversed_temp_list)\n",
    "\n"
   ]
  },
  {
   "cell_type": "markdown",
   "id": "096f1bfb-9137-4b86-8303-b6c30c7f5e10",
   "metadata": {},
   "source": [
    "### Code drill "
   ]
  },
  {
   "cell_type": "markdown",
   "id": "e4521cc7-37d5-4e62-8cf5-def889d67fd1",
   "metadata": {},
   "source": [
    "### list comprehension"
   ]
  },
  {
   "cell_type": "markdown",
   "id": "41e071e2-f7b2-4350-9eef-907b5e100776",
   "metadata": {},
   "source": [
    "### challenge 1  - code name"
   ]
  },
  {
   "cell_type": "code",
   "execution_count": null,
   "id": "403d1a7a-1a6b-406e-b788-ae4f3459196b",
   "metadata": {
    "tags": []
   },
   "outputs": [],
   "source": [
    "import random\n",
    "# function to use random.choice(my_list)\n",
    "\n",
    "space_pirates = ['Justice', 'Muteba', 'Venkata', 'Chatherine', 'Sahib', 'Mohit', 'Kwadwo', 'Sobi', 'Nikhil', 'Joanne', 'Prerna', 'Katie', 'Masih', 'Hyun bin','Huan']\n",
    "\n",
    "code_names = ['Dark Lord', 'Ice Queen', 'Star Lord', 'Viper', 'Phoenix', 'Shadow', 'Thor', \n",
    "              'Obiwan', 'Sky walker', 'Quantum', 'Voyager', 'Juno', \n",
    "              'Super Nova', 'Siren', 'Spicy']\n",
    "\n",
    "      \n",
    "        "
   ]
  },
  {
   "cell_type": "markdown",
   "id": "97b0c68b-0735-4d73-a645-4efbc27a3624",
   "metadata": {
    "tags": []
   },
   "source": [
    "### challenge 2 rock paper scissors"
   ]
  }
 ],
 "metadata": {
  "kernelspec": {
   "display_name": "Python 3 (ipykernel)",
   "language": "python",
   "name": "python3"
  },
  "language_info": {
   "codemirror_mode": {
    "name": "ipython",
    "version": 3
   },
   "file_extension": ".py",
   "mimetype": "text/x-python",
   "name": "python",
   "nbconvert_exporter": "python",
   "pygments_lexer": "ipython3",
   "version": "3.9.18"
  }
 },
 "nbformat": 4,
 "nbformat_minor": 5
}
