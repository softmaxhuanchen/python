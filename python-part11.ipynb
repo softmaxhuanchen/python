{
 "cells": [
  {
   "cell_type": "code",
   "execution_count": 8,
   "id": "9dafa8da-08a2-4eb3-84b4-7ac90e451acf",
   "metadata": {
    "tags": []
   },
   "outputs": [],
   "source": [
    "def financail_advisor(age, income):\n",
    "    if age >= 50 and income > 50000:\n",
    "        print(\"you should invest in bonds\")\n",
    "    elif age >= 50 and income < 50000:\n",
    "        print(\"you should invest in GIC\")\n",
    "    elif age < 50 and income < 50000:\n",
    "        print(\"you should invest in stocks\")    \n",
    "    else:\n",
    "        print(\"you should invest in bitcoin\")\n",
    "    "
   ]
  },
  {
   "cell_type": "code",
   "execution_count": 9,
   "id": "c88b334c-a74c-41e3-bcf8-ecf7f86916ed",
   "metadata": {
    "tags": []
   },
   "outputs": [],
   "source": [
    "def get_age_income(name):\n",
    "    if name == \"Gandof\":\n",
    "        return 900, 40000\n",
    "    elif name == \"Darth Vader\":\n",
    "        return 300, 5000000\n",
    "    elif name == \"Baby Yoda\":\n",
    "        return 1, 0\n",
    "    elif name == \"snow white\":\n",
    "        return 15, 700000"
   ]
  },
  {
   "cell_type": "code",
   "execution_count": 14,
   "id": "035c1390-c7d9-4901-a07a-9615514c0bb4",
   "metadata": {
    "tags": []
   },
   "outputs": [
    {
     "name": "stdout",
     "output_type": "stream",
     "text": [
      "you should invest in bitcoin\n"
     ]
    }
   ],
   "source": [
    "financail_advisor(*get_age_income(\"snow white\"))"
   ]
  },
  {
   "cell_type": "code",
   "execution_count": null,
   "id": "ff16e242-25c4-4d7b-b3be-f12c2f6ce763",
   "metadata": {},
   "outputs": [],
   "source": []
  }
 ],
 "metadata": {
  "kernelspec": {
   "display_name": "Python 3 (ipykernel)",
   "language": "python",
   "name": "python3"
  },
  "language_info": {
   "codemirror_mode": {
    "name": "ipython",
    "version": 3
   },
   "file_extension": ".py",
   "mimetype": "text/x-python",
   "name": "python",
   "nbconvert_exporter": "python",
   "pygments_lexer": "ipython3",
   "version": "3.11.5"
  }
 },
 "nbformat": 4,
 "nbformat_minor": 5
}
