{
 "cells": [
  {
   "cell_type": "markdown",
   "id": "0a21cbb2-cb32-4e8d-a35f-55d12298af81",
   "metadata": {},
   "source": [
    "### basic concepts"
   ]
  },
  {
   "cell_type": "code",
   "execution_count": null,
   "id": "cb877e21-5610-496c-99a8-d54eaa010bfd",
   "metadata": {},
   "outputs": [],
   "source": [
    "# power 1. if you want something just declare it. variable\n",
    "# power 2. magic world is real - number are real, do real things, real concequences. \n",
    "# cause/effect is absolute.\n",
    "# things to understand(structure), things to remeber and learn on the fly. \n",
    "# two most important concepts, variables/data structures (passive material) and functions (active actions). "
   ]
  },
  {
   "cell_type": "code",
   "execution_count": null,
   "id": "2180a754-ac6a-420a-bb25-113aeda9c5e1",
   "metadata": {},
   "outputs": [],
   "source": []
  }
 ],
 "metadata": {
  "kernelspec": {
   "display_name": "Python 3 (ipykernel)",
   "language": "python",
   "name": "python3"
  },
  "language_info": {
   "codemirror_mode": {
    "name": "ipython",
    "version": 3
   },
   "file_extension": ".py",
   "mimetype": "text/x-python",
   "name": "python",
   "nbconvert_exporter": "python",
   "pygments_lexer": "ipython3",
   "version": "3.10.10"
  }
 },
 "nbformat": 4,
 "nbformat_minor": 5
}
