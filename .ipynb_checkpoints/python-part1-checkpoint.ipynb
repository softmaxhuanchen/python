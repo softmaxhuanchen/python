{
 "cells": [
  {
   "cell_type": "markdown",
   "id": "0a21cbb2-cb32-4e8d-a35f-55d12298af81",
   "metadata": {},
   "source": [
    "### basic concepts"
   ]
  },
  {
   "cell_type": "code",
   "execution_count": null,
   "id": "5cbb4732-428d-4f2b-8bfc-411a9074273e",
   "metadata": {},
   "outputs": [],
   "source": []
  }
 ],
 "metadata": {
  "kernelspec": {
   "display_name": "Python 3 (ipykernel)",
   "language": "python",
   "name": "python3"
  },
  "language_info": {
   "codemirror_mode": {
    "name": "ipython",
    "version": 3
   },
   "file_extension": ".py",
   "mimetype": "text/x-python",
   "name": "python",
   "nbconvert_exporter": "python",
   "pygments_lexer": "ipython3",
   "version": "3.10.10"
  }
 },
 "nbformat": 4,
 "nbformat_minor": 5
}
