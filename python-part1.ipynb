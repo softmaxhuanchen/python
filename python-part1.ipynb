{
 "cells": [
  {
   "cell_type": "markdown",
   "id": "0a21cbb2-cb32-4e8d-a35f-55d12298af81",
   "metadata": {},
   "source": [
    "### basic concepts"
   ]
  },
  {
   "cell_type": "code",
   "execution_count": null,
   "id": "cb877e21-5610-496c-99a8-d54eaa010bfd",
   "metadata": {},
   "outputs": [],
   "source": [
    "# power 1. if you want something just declare it. variable\n",
    "# power 2. magic world is real - number are real, do real things, real concequences. \n",
    "# cause/effect is absolute.\n",
    "# things to understand(structure), things to remeber and learn on the fly. \n",
    "# two most important concepts, variables/data structures (passive material) and functions (active actions). "
   ]
  },
  {
   "cell_type": "markdown",
   "id": "e7ca0c74-0fa8-4964-b1ff-63e52e3dfdeb",
   "metadata": {},
   "source": [
    "### Variables"
   ]
  },
  {
   "cell_type": "code",
   "execution_count": 13,
   "id": "51d38aa8-c6a6-485d-9cf7-3ebf041b5b64",
   "metadata": {},
   "outputs": [
    {
     "name": "stdout",
     "output_type": "stream",
     "text": [
      "Gandalf\n",
      "<class 'str'>\n",
      "850\n",
      "<class 'int'>\n",
      "3600\n"
     ]
    }
   ],
   "source": [
    "name = \"Gandalf\" #string type\n",
    "age = '850'\n",
    "age = 850 # number type\n",
    "\n",
    "wizard_status = True\n",
    "fly_speedperhour = 150\n",
    "\n",
    "print(name)\n",
    "type_of_object = type(name)\n",
    "print(type_of_object)\n",
    "\n",
    "print(age)\n",
    "print(type(age))\n",
    "\n",
    "fly_speedperday = fly_speedperhour * 24\n",
    "print(fly_speedperday)"
   ]
  },
  {
   "cell_type": "code",
   "execution_count": null,
   "id": "ef91ed82-a2ea-431b-8070-64953db1a06b",
   "metadata": {},
   "outputs": [],
   "source": []
  }
 ],
 "metadata": {
  "kernelspec": {
   "display_name": "Python 3 (ipykernel)",
   "language": "python",
   "name": "python3"
  },
  "language_info": {
   "codemirror_mode": {
    "name": "ipython",
    "version": 3
   },
   "file_extension": ".py",
   "mimetype": "text/x-python",
   "name": "python",
   "nbconvert_exporter": "python",
   "pygments_lexer": "ipython3",
   "version": "3.10.10"
  }
 },
 "nbformat": 4,
 "nbformat_minor": 5
}
