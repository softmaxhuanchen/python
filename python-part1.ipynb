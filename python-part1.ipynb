{
 "cells": [
  {
   "cell_type": "markdown",
   "id": "0a21cbb2-cb32-4e8d-a35f-55d12298af81",
   "metadata": {},
   "source": [
    "### basic concepts"
   ]
  },
  {
   "cell_type": "code",
   "execution_count": null,
   "id": "cb877e21-5610-496c-99a8-d54eaa010bfd",
   "metadata": {},
   "outputs": [],
   "source": [
    "# power 1. if you want something just declare it. variable\n",
    "# power 2. magic world is real - number are real, do real things, real concequences. \n",
    "# cause/effect is absolute.\n",
    "# things to understand(structure), things to remeber and learn on the fly. \n",
    "# two most important concepts, variables/data structures (passive material) and functions (active actions). "
   ]
  },
  {
   "cell_type": "markdown",
   "id": "e7ca0c74-0fa8-4964-b1ff-63e52e3dfdeb",
   "metadata": {},
   "source": [
    "### Variables"
   ]
  },
  {
   "cell_type": "code",
   "execution_count": null,
   "id": "51d38aa8-c6a6-485d-9cf7-3ebf041b5b64",
   "metadata": {},
   "outputs": [],
   "source": [
    "name = \"Gandalf\" #string type\n",
    "age = '850'\n",
    "age = 850 # number type\n",
    "\n",
    "wizard_status = True\n",
    "another_status = False\n",
    "\n",
    "fly_speedperhour = 150\n",
    "\n",
    "print(name)\n",
    "type_of_object = type(name)\n",
    "print(type_of_object)\n",
    "\n",
    "print(age)\n",
    "print(type(age))\n",
    "\n",
    "fly_speedperday = fly_speedperhour * 24\n",
    "print(fly_speedperday)"
   ]
  },
  {
   "cell_type": "code",
   "execution_count": 15,
   "id": "ef91ed82-a2ea-431b-8070-64953db1a06b",
   "metadata": {},
   "outputs": [],
   "source": [
    "#these are our clts\n",
    "client_id = [0,1,2,3,4] #list\n",
    "client_list = ['Gandalf','Han solo','Baby Yoda', 'Blade Runner', 'Harry Potter']\n",
    "client_age = [850, 35, 1, -20, 15]\n",
    "client_wizard_status = [True,False,False,False,True]"
   ]
  },
  {
   "cell_type": "markdown",
   "id": "76869409-e361-4807-94b0-9e104d9cf55a",
   "metadata": {},
   "source": [
    "### conditional"
   ]
  },
  {
   "cell_type": "code",
   "execution_count": 24,
   "id": "bd4d318a-c0c0-44b2-9a6b-0481130dcacf",
   "metadata": {},
   "outputs": [
    {
     "name": "stdout",
     "output_type": "stream",
     "text": [
      "Baby Yoda\n"
     ]
    }
   ],
   "source": [
    "print(client_list[2])"
   ]
  },
  {
   "cell_type": "code",
   "execution_count": 26,
   "id": "397b3967-b280-45c7-9192-dc9d98b4d721",
   "metadata": {},
   "outputs": [
    {
     "name": "stdout",
     "output_type": "stream",
     "text": [
      "-20\n"
     ]
    }
   ],
   "source": [
    "print(client_age[3])"
   ]
  },
  {
   "cell_type": "code",
   "execution_count": null,
   "id": "b0110101-b95a-4abd-b228-177267e97464",
   "metadata": {},
   "outputs": [],
   "source": [
    "name = client_list[3]\n",
    "age = client_age[3]\n",
    "wizard_status = client_wizard_status[3]\n",
    "\n",
    "if age <= 0:\n",
    "    print(f\"{name}, you are not born yet, but we have you covered. You are on waiting list\")\n",
    "elif age > 0 and age < 30:\n",
    "    print(f\"{name}, you should invest 95% in stocks, 5% in bitcoin, which will be the currency of Galaxy\")\n",
    "elif age >= 30 and age < 100: \n",
    "    print(f\"{name}, you should invest 50% in growth stocks, 50% in dividend stocks\")\n",
    "elif age >= 100:\n",
    "    if age == 850 and wizard_status:\n",
    "        print(\"We will connect you to a middle earth financal advisor\")\n",
    "    else:\n",
    "        print(\"you should keep 50% in cash, 20% in stocks, 30% in GIC\")"
   ]
  }
 ],
 "metadata": {
  "kernelspec": {
   "display_name": "Python 3 (ipykernel)",
   "language": "python",
   "name": "python3"
  },
  "language_info": {
   "codemirror_mode": {
    "name": "ipython",
    "version": 3
   },
   "file_extension": ".py",
   "mimetype": "text/x-python",
   "name": "python",
   "nbconvert_exporter": "python",
   "pygments_lexer": "ipython3",
   "version": "3.10.10"
  }
 },
 "nbformat": 4,
 "nbformat_minor": 5
}
